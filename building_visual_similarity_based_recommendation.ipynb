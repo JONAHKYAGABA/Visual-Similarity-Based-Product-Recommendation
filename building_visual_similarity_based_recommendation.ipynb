{
  "metadata": {
    "kernelspec": {
      "language": "python",
      "display_name": "Python 3",
      "name": "python3"
    },
    "language_info": {
      "pygments_lexer": "ipython3",
      "nbconvert_exporter": "python",
      "version": "3.6.4",
      "file_extension": ".py",
      "codemirror_mode": {
        "name": "ipython",
        "version": 3
      },
      "name": "python",
      "mimetype": "text/x-python"
    },
    "colab": {
      "provenance": []
    }
  },
  "nbformat_minor": 0,
  "nbformat": 4,
  "cells": [
    {
      "cell_type": "markdown",
      "source": [
        "### Basic Data Analysis\n",
        "\n",
        "#### 1.1 Importing the necessary libraries & loading the data"
      ],
      "metadata": {
        "id": "yyDs_Le54Yud"
      }
    },
    {
      "cell_type": "code",
      "source": [
        "import numpy as np\n",
        "import pandas as pd\n",
        "import matplotlib.pyplot as plt\n",
        "import seaborn as sns\n",
        "from keras.preprocessing.image import ImageDataGenerator\n",
        "from keras.models import Sequential\n",
        "from keras.layers import Dropout, Flatten, Dense\n",
        "from keras import applications\n",
        "from sklearn.metrics import pairwise_distances\n",
        "import requests\n",
        "from PIL import Image\n",
        "import pickle\n",
        "from datetime import datetime\n",
        "from PIL import ImageFile\n",
        "ImageFile.LOAD_TRUNCATED_IMAGES = True\n",
        "import plotly.figure_factory as ff\n",
        "import plotly.graph_objects as go\n",
        "import plotly.express as px\n",
        "#import streamlit as st\n",
        "#use the below library while displaying the images in jupyter notebook\n",
        "from IPython.display import display, Image\n",
        "! pip install kaggle\n",
        "! mkdir ~/.kaggle\n",
        "! cp /content/drive/MyDrive/Colab_Notebooks/kaggle.json ~/.kaggle/\n",
        "! chmod 600 ~/.kaggle/kaggle.json\n",
        "\n",
        "fashion_df = pd.read_csv(\"/content/drive/MyDrive/archive.zip\")\n",
        "fashion_df\n",
        "\n"
      ],
      "metadata": {
        "trusted": true,
        "colab": {
          "base_uri": "https://localhost:8080/"
        },
        "id": "5oTFbddP4Yue",
        "outputId": "05af9386-5250-4843-9ae4-7070cde2451a"
      },
      "execution_count": null,
      "outputs": [
        {
          "output_type": "stream",
          "name": "stdout",
          "text": [
            "Looking in indexes: https://pypi.org/simple, https://us-python.pkg.dev/colab-wheels/public/simple/\n",
            "Requirement already satisfied: kaggle in /usr/local/lib/python3.7/dist-packages (1.5.12)\n",
            "Requirement already satisfied: python-slugify in /usr/local/lib/python3.7/dist-packages (from kaggle) (6.1.2)\n",
            "Requirement already satisfied: tqdm in /usr/local/lib/python3.7/dist-packages (from kaggle) (4.64.0)\n",
            "Requirement already satisfied: six>=1.10 in /usr/local/lib/python3.7/dist-packages (from kaggle) (1.15.0)\n",
            "Requirement already satisfied: requests in /usr/local/lib/python3.7/dist-packages (from kaggle) (2.23.0)\n",
            "Requirement already satisfied: python-dateutil in /usr/local/lib/python3.7/dist-packages (from kaggle) (2.8.2)\n",
            "Requirement already satisfied: certifi in /usr/local/lib/python3.7/dist-packages (from kaggle) (2022.6.15)\n",
            "Requirement already satisfied: urllib3 in /usr/local/lib/python3.7/dist-packages (from kaggle) (1.24.3)\n",
            "Requirement already satisfied: text-unidecode>=1.3 in /usr/local/lib/python3.7/dist-packages (from python-slugify->kaggle) (1.3)\n",
            "Requirement already satisfied: idna<3,>=2.5 in /usr/local/lib/python3.7/dist-packages (from requests->kaggle) (2.10)\n",
            "Requirement already satisfied: chardet<4,>=3.0.2 in /usr/local/lib/python3.7/dist-packages (from requests->kaggle) (3.0.4)\n",
            "cp: cannot stat '/content/drive/MyDrive/Colab_Notebooks/kaggle.json': No such file or directory\n",
            "chmod: cannot access '/root/.kaggle/kaggle.json': No such file or directory\n"
          ]
        },
        {
          "output_type": "error",
          "ename": "FileNotFoundError",
          "evalue": "ignored",
          "traceback": [
            "\u001b[0;31m---------------------------------------------------------------------------\u001b[0m",
            "\u001b[0;31mFileNotFoundError\u001b[0m                         Traceback (most recent call last)",
            "\u001b[0;32m<ipython-input-1-40f11c89155f>\u001b[0m in \u001b[0;36m<module>\u001b[0;34m()\u001b[0m\n\u001b[1;32m     25\u001b[0m \u001b[0mget_ipython\u001b[0m\u001b[0;34m(\u001b[0m\u001b[0;34m)\u001b[0m\u001b[0;34m.\u001b[0m\u001b[0msystem\u001b[0m\u001b[0;34m(\u001b[0m\u001b[0;34m' chmod 600 ~/.kaggle/kaggle.json'\u001b[0m\u001b[0;34m)\u001b[0m\u001b[0;34m\u001b[0m\u001b[0;34m\u001b[0m\u001b[0m\n\u001b[1;32m     26\u001b[0m \u001b[0;34m\u001b[0m\u001b[0m\n\u001b[0;32m---> 27\u001b[0;31m \u001b[0mfashion_df\u001b[0m \u001b[0;34m=\u001b[0m \u001b[0mpd\u001b[0m\u001b[0;34m.\u001b[0m\u001b[0mread_csv\u001b[0m\u001b[0;34m(\u001b[0m\u001b[0;34m\"/content/drive/MyDrive/archive.zip\"\u001b[0m\u001b[0;34m)\u001b[0m\u001b[0;34m\u001b[0m\u001b[0;34m\u001b[0m\u001b[0m\n\u001b[0m\u001b[1;32m     28\u001b[0m \u001b[0mfashion_df\u001b[0m\u001b[0;34m\u001b[0m\u001b[0;34m\u001b[0m\u001b[0m\n\u001b[1;32m     29\u001b[0m \u001b[0;34m\u001b[0m\u001b[0m\n",
            "\u001b[0;32m/usr/local/lib/python3.7/dist-packages/pandas/util/_decorators.py\u001b[0m in \u001b[0;36mwrapper\u001b[0;34m(*args, **kwargs)\u001b[0m\n\u001b[1;32m    309\u001b[0m                     \u001b[0mstacklevel\u001b[0m\u001b[0;34m=\u001b[0m\u001b[0mstacklevel\u001b[0m\u001b[0;34m,\u001b[0m\u001b[0;34m\u001b[0m\u001b[0;34m\u001b[0m\u001b[0m\n\u001b[1;32m    310\u001b[0m                 )\n\u001b[0;32m--> 311\u001b[0;31m             \u001b[0;32mreturn\u001b[0m \u001b[0mfunc\u001b[0m\u001b[0;34m(\u001b[0m\u001b[0;34m*\u001b[0m\u001b[0margs\u001b[0m\u001b[0;34m,\u001b[0m \u001b[0;34m**\u001b[0m\u001b[0mkwargs\u001b[0m\u001b[0;34m)\u001b[0m\u001b[0;34m\u001b[0m\u001b[0;34m\u001b[0m\u001b[0m\n\u001b[0m\u001b[1;32m    312\u001b[0m \u001b[0;34m\u001b[0m\u001b[0m\n\u001b[1;32m    313\u001b[0m         \u001b[0;32mreturn\u001b[0m \u001b[0mwrapper\u001b[0m\u001b[0;34m\u001b[0m\u001b[0;34m\u001b[0m\u001b[0m\n",
            "\u001b[0;32m/usr/local/lib/python3.7/dist-packages/pandas/io/parsers/readers.py\u001b[0m in \u001b[0;36mread_csv\u001b[0;34m(filepath_or_buffer, sep, delimiter, header, names, index_col, usecols, squeeze, prefix, mangle_dupe_cols, dtype, engine, converters, true_values, false_values, skipinitialspace, skiprows, skipfooter, nrows, na_values, keep_default_na, na_filter, verbose, skip_blank_lines, parse_dates, infer_datetime_format, keep_date_col, date_parser, dayfirst, cache_dates, iterator, chunksize, compression, thousands, decimal, lineterminator, quotechar, quoting, doublequote, escapechar, comment, encoding, encoding_errors, dialect, error_bad_lines, warn_bad_lines, on_bad_lines, delim_whitespace, low_memory, memory_map, float_precision, storage_options)\u001b[0m\n\u001b[1;32m    584\u001b[0m     \u001b[0mkwds\u001b[0m\u001b[0;34m.\u001b[0m\u001b[0mupdate\u001b[0m\u001b[0;34m(\u001b[0m\u001b[0mkwds_defaults\u001b[0m\u001b[0;34m)\u001b[0m\u001b[0;34m\u001b[0m\u001b[0;34m\u001b[0m\u001b[0m\n\u001b[1;32m    585\u001b[0m \u001b[0;34m\u001b[0m\u001b[0m\n\u001b[0;32m--> 586\u001b[0;31m     \u001b[0;32mreturn\u001b[0m \u001b[0m_read\u001b[0m\u001b[0;34m(\u001b[0m\u001b[0mfilepath_or_buffer\u001b[0m\u001b[0;34m,\u001b[0m \u001b[0mkwds\u001b[0m\u001b[0;34m)\u001b[0m\u001b[0;34m\u001b[0m\u001b[0;34m\u001b[0m\u001b[0m\n\u001b[0m\u001b[1;32m    587\u001b[0m \u001b[0;34m\u001b[0m\u001b[0m\n\u001b[1;32m    588\u001b[0m \u001b[0;34m\u001b[0m\u001b[0m\n",
            "\u001b[0;32m/usr/local/lib/python3.7/dist-packages/pandas/io/parsers/readers.py\u001b[0m in \u001b[0;36m_read\u001b[0;34m(filepath_or_buffer, kwds)\u001b[0m\n\u001b[1;32m    480\u001b[0m \u001b[0;34m\u001b[0m\u001b[0m\n\u001b[1;32m    481\u001b[0m     \u001b[0;31m# Create the parser.\u001b[0m\u001b[0;34m\u001b[0m\u001b[0;34m\u001b[0m\u001b[0;34m\u001b[0m\u001b[0m\n\u001b[0;32m--> 482\u001b[0;31m     \u001b[0mparser\u001b[0m \u001b[0;34m=\u001b[0m \u001b[0mTextFileReader\u001b[0m\u001b[0;34m(\u001b[0m\u001b[0mfilepath_or_buffer\u001b[0m\u001b[0;34m,\u001b[0m \u001b[0;34m**\u001b[0m\u001b[0mkwds\u001b[0m\u001b[0;34m)\u001b[0m\u001b[0;34m\u001b[0m\u001b[0;34m\u001b[0m\u001b[0m\n\u001b[0m\u001b[1;32m    483\u001b[0m \u001b[0;34m\u001b[0m\u001b[0m\n\u001b[1;32m    484\u001b[0m     \u001b[0;32mif\u001b[0m \u001b[0mchunksize\u001b[0m \u001b[0;32mor\u001b[0m \u001b[0miterator\u001b[0m\u001b[0;34m:\u001b[0m\u001b[0;34m\u001b[0m\u001b[0;34m\u001b[0m\u001b[0m\n",
            "\u001b[0;32m/usr/local/lib/python3.7/dist-packages/pandas/io/parsers/readers.py\u001b[0m in \u001b[0;36m__init__\u001b[0;34m(self, f, engine, **kwds)\u001b[0m\n\u001b[1;32m    809\u001b[0m             \u001b[0mself\u001b[0m\u001b[0;34m.\u001b[0m\u001b[0moptions\u001b[0m\u001b[0;34m[\u001b[0m\u001b[0;34m\"has_index_names\"\u001b[0m\u001b[0;34m]\u001b[0m \u001b[0;34m=\u001b[0m \u001b[0mkwds\u001b[0m\u001b[0;34m[\u001b[0m\u001b[0;34m\"has_index_names\"\u001b[0m\u001b[0;34m]\u001b[0m\u001b[0;34m\u001b[0m\u001b[0;34m\u001b[0m\u001b[0m\n\u001b[1;32m    810\u001b[0m \u001b[0;34m\u001b[0m\u001b[0m\n\u001b[0;32m--> 811\u001b[0;31m         \u001b[0mself\u001b[0m\u001b[0;34m.\u001b[0m\u001b[0m_engine\u001b[0m \u001b[0;34m=\u001b[0m \u001b[0mself\u001b[0m\u001b[0;34m.\u001b[0m\u001b[0m_make_engine\u001b[0m\u001b[0;34m(\u001b[0m\u001b[0mself\u001b[0m\u001b[0;34m.\u001b[0m\u001b[0mengine\u001b[0m\u001b[0;34m)\u001b[0m\u001b[0;34m\u001b[0m\u001b[0;34m\u001b[0m\u001b[0m\n\u001b[0m\u001b[1;32m    812\u001b[0m \u001b[0;34m\u001b[0m\u001b[0m\n\u001b[1;32m    813\u001b[0m     \u001b[0;32mdef\u001b[0m \u001b[0mclose\u001b[0m\u001b[0;34m(\u001b[0m\u001b[0mself\u001b[0m\u001b[0;34m)\u001b[0m\u001b[0;34m:\u001b[0m\u001b[0;34m\u001b[0m\u001b[0;34m\u001b[0m\u001b[0m\n",
            "\u001b[0;32m/usr/local/lib/python3.7/dist-packages/pandas/io/parsers/readers.py\u001b[0m in \u001b[0;36m_make_engine\u001b[0;34m(self, engine)\u001b[0m\n\u001b[1;32m   1038\u001b[0m             )\n\u001b[1;32m   1039\u001b[0m         \u001b[0;31m# error: Too many arguments for \"ParserBase\"\u001b[0m\u001b[0;34m\u001b[0m\u001b[0;34m\u001b[0m\u001b[0;34m\u001b[0m\u001b[0m\n\u001b[0;32m-> 1040\u001b[0;31m         \u001b[0;32mreturn\u001b[0m \u001b[0mmapping\u001b[0m\u001b[0;34m[\u001b[0m\u001b[0mengine\u001b[0m\u001b[0;34m]\u001b[0m\u001b[0;34m(\u001b[0m\u001b[0mself\u001b[0m\u001b[0;34m.\u001b[0m\u001b[0mf\u001b[0m\u001b[0;34m,\u001b[0m \u001b[0;34m**\u001b[0m\u001b[0mself\u001b[0m\u001b[0;34m.\u001b[0m\u001b[0moptions\u001b[0m\u001b[0;34m)\u001b[0m  \u001b[0;31m# type: ignore[call-arg]\u001b[0m\u001b[0;34m\u001b[0m\u001b[0;34m\u001b[0m\u001b[0m\n\u001b[0m\u001b[1;32m   1041\u001b[0m \u001b[0;34m\u001b[0m\u001b[0m\n\u001b[1;32m   1042\u001b[0m     \u001b[0;32mdef\u001b[0m \u001b[0m_failover_to_python\u001b[0m\u001b[0;34m(\u001b[0m\u001b[0mself\u001b[0m\u001b[0;34m)\u001b[0m\u001b[0;34m:\u001b[0m\u001b[0;34m\u001b[0m\u001b[0;34m\u001b[0m\u001b[0m\n",
            "\u001b[0;32m/usr/local/lib/python3.7/dist-packages/pandas/io/parsers/c_parser_wrapper.py\u001b[0m in \u001b[0;36m__init__\u001b[0;34m(self, src, **kwds)\u001b[0m\n\u001b[1;32m     49\u001b[0m \u001b[0;34m\u001b[0m\u001b[0m\n\u001b[1;32m     50\u001b[0m         \u001b[0;31m# open handles\u001b[0m\u001b[0;34m\u001b[0m\u001b[0;34m\u001b[0m\u001b[0;34m\u001b[0m\u001b[0m\n\u001b[0;32m---> 51\u001b[0;31m         \u001b[0mself\u001b[0m\u001b[0;34m.\u001b[0m\u001b[0m_open_handles\u001b[0m\u001b[0;34m(\u001b[0m\u001b[0msrc\u001b[0m\u001b[0;34m,\u001b[0m \u001b[0mkwds\u001b[0m\u001b[0;34m)\u001b[0m\u001b[0;34m\u001b[0m\u001b[0;34m\u001b[0m\u001b[0m\n\u001b[0m\u001b[1;32m     52\u001b[0m         \u001b[0;32massert\u001b[0m \u001b[0mself\u001b[0m\u001b[0;34m.\u001b[0m\u001b[0mhandles\u001b[0m \u001b[0;32mis\u001b[0m \u001b[0;32mnot\u001b[0m \u001b[0;32mNone\u001b[0m\u001b[0;34m\u001b[0m\u001b[0;34m\u001b[0m\u001b[0m\n\u001b[1;32m     53\u001b[0m \u001b[0;34m\u001b[0m\u001b[0m\n",
            "\u001b[0;32m/usr/local/lib/python3.7/dist-packages/pandas/io/parsers/base_parser.py\u001b[0m in \u001b[0;36m_open_handles\u001b[0;34m(self, src, kwds)\u001b[0m\n\u001b[1;32m    227\u001b[0m             \u001b[0mmemory_map\u001b[0m\u001b[0;34m=\u001b[0m\u001b[0mkwds\u001b[0m\u001b[0;34m.\u001b[0m\u001b[0mget\u001b[0m\u001b[0;34m(\u001b[0m\u001b[0;34m\"memory_map\"\u001b[0m\u001b[0;34m,\u001b[0m \u001b[0;32mFalse\u001b[0m\u001b[0;34m)\u001b[0m\u001b[0;34m,\u001b[0m\u001b[0;34m\u001b[0m\u001b[0;34m\u001b[0m\u001b[0m\n\u001b[1;32m    228\u001b[0m             \u001b[0mstorage_options\u001b[0m\u001b[0;34m=\u001b[0m\u001b[0mkwds\u001b[0m\u001b[0;34m.\u001b[0m\u001b[0mget\u001b[0m\u001b[0;34m(\u001b[0m\u001b[0;34m\"storage_options\"\u001b[0m\u001b[0;34m,\u001b[0m \u001b[0;32mNone\u001b[0m\u001b[0;34m)\u001b[0m\u001b[0;34m,\u001b[0m\u001b[0;34m\u001b[0m\u001b[0;34m\u001b[0m\u001b[0m\n\u001b[0;32m--> 229\u001b[0;31m             \u001b[0merrors\u001b[0m\u001b[0;34m=\u001b[0m\u001b[0mkwds\u001b[0m\u001b[0;34m.\u001b[0m\u001b[0mget\u001b[0m\u001b[0;34m(\u001b[0m\u001b[0;34m\"encoding_errors\"\u001b[0m\u001b[0;34m,\u001b[0m \u001b[0;34m\"strict\"\u001b[0m\u001b[0;34m)\u001b[0m\u001b[0;34m,\u001b[0m\u001b[0;34m\u001b[0m\u001b[0;34m\u001b[0m\u001b[0m\n\u001b[0m\u001b[1;32m    230\u001b[0m         )\n\u001b[1;32m    231\u001b[0m \u001b[0;34m\u001b[0m\u001b[0m\n",
            "\u001b[0;32m/usr/local/lib/python3.7/dist-packages/pandas/io/common.py\u001b[0m in \u001b[0;36mget_handle\u001b[0;34m(path_or_buf, mode, encoding, compression, memory_map, is_text, errors, storage_options)\u001b[0m\n\u001b[1;32m    669\u001b[0m         \u001b[0;31m# ZIP Compression\u001b[0m\u001b[0;34m\u001b[0m\u001b[0;34m\u001b[0m\u001b[0;34m\u001b[0m\u001b[0m\n\u001b[1;32m    670\u001b[0m         \u001b[0;32melif\u001b[0m \u001b[0mcompression\u001b[0m \u001b[0;34m==\u001b[0m \u001b[0;34m\"zip\"\u001b[0m\u001b[0;34m:\u001b[0m\u001b[0;34m\u001b[0m\u001b[0;34m\u001b[0m\u001b[0m\n\u001b[0;32m--> 671\u001b[0;31m             \u001b[0mhandle\u001b[0m \u001b[0;34m=\u001b[0m \u001b[0m_BytesZipFile\u001b[0m\u001b[0;34m(\u001b[0m\u001b[0mhandle\u001b[0m\u001b[0;34m,\u001b[0m \u001b[0mioargs\u001b[0m\u001b[0;34m.\u001b[0m\u001b[0mmode\u001b[0m\u001b[0;34m,\u001b[0m \u001b[0;34m**\u001b[0m\u001b[0mcompression_args\u001b[0m\u001b[0;34m)\u001b[0m\u001b[0;34m\u001b[0m\u001b[0;34m\u001b[0m\u001b[0m\n\u001b[0m\u001b[1;32m    672\u001b[0m             \u001b[0;32mif\u001b[0m \u001b[0mhandle\u001b[0m\u001b[0;34m.\u001b[0m\u001b[0mmode\u001b[0m \u001b[0;34m==\u001b[0m \u001b[0;34m\"r\"\u001b[0m\u001b[0;34m:\u001b[0m\u001b[0;34m\u001b[0m\u001b[0;34m\u001b[0m\u001b[0m\n\u001b[1;32m    673\u001b[0m                 \u001b[0mhandles\u001b[0m\u001b[0;34m.\u001b[0m\u001b[0mappend\u001b[0m\u001b[0;34m(\u001b[0m\u001b[0mhandle\u001b[0m\u001b[0;34m)\u001b[0m\u001b[0;34m\u001b[0m\u001b[0;34m\u001b[0m\u001b[0m\n",
            "\u001b[0;32m/usr/local/lib/python3.7/dist-packages/pandas/io/common.py\u001b[0m in \u001b[0;36m__init__\u001b[0;34m(self, file, mode, archive_name, **kwargs)\u001b[0m\n\u001b[1;32m    785\u001b[0m         \u001b[0;31m# TextIOBase, TextIOWrapper, mmap]]]\"; expected \"Union[Union[str,\u001b[0m\u001b[0;34m\u001b[0m\u001b[0;34m\u001b[0m\u001b[0;34m\u001b[0m\u001b[0m\n\u001b[1;32m    786\u001b[0m         \u001b[0;31m# _PathLike[str]], IO[bytes]]\"\u001b[0m\u001b[0;34m\u001b[0m\u001b[0;34m\u001b[0m\u001b[0;34m\u001b[0m\u001b[0m\n\u001b[0;32m--> 787\u001b[0;31m         \u001b[0msuper\u001b[0m\u001b[0;34m(\u001b[0m\u001b[0;34m)\u001b[0m\u001b[0;34m.\u001b[0m\u001b[0m__init__\u001b[0m\u001b[0;34m(\u001b[0m\u001b[0mfile\u001b[0m\u001b[0;34m,\u001b[0m \u001b[0mmode\u001b[0m\u001b[0;34m,\u001b[0m \u001b[0;34m**\u001b[0m\u001b[0mkwargs_zip\u001b[0m\u001b[0;34m)\u001b[0m  \u001b[0;31m# type: ignore[arg-type]\u001b[0m\u001b[0;34m\u001b[0m\u001b[0;34m\u001b[0m\u001b[0m\n\u001b[0m\u001b[1;32m    788\u001b[0m \u001b[0;34m\u001b[0m\u001b[0m\n\u001b[1;32m    789\u001b[0m     \u001b[0;32mdef\u001b[0m \u001b[0mwrite\u001b[0m\u001b[0;34m(\u001b[0m\u001b[0mself\u001b[0m\u001b[0;34m,\u001b[0m \u001b[0mdata\u001b[0m\u001b[0;34m)\u001b[0m\u001b[0;34m:\u001b[0m\u001b[0;34m\u001b[0m\u001b[0;34m\u001b[0m\u001b[0m\n",
            "\u001b[0;32m/usr/lib/python3.7/zipfile.py\u001b[0m in \u001b[0;36m__init__\u001b[0;34m(self, file, mode, compression, allowZip64, compresslevel)\u001b[0m\n\u001b[1;32m   1238\u001b[0m             \u001b[0;32mwhile\u001b[0m \u001b[0;32mTrue\u001b[0m\u001b[0;34m:\u001b[0m\u001b[0;34m\u001b[0m\u001b[0;34m\u001b[0m\u001b[0m\n\u001b[1;32m   1239\u001b[0m                 \u001b[0;32mtry\u001b[0m\u001b[0;34m:\u001b[0m\u001b[0;34m\u001b[0m\u001b[0;34m\u001b[0m\u001b[0m\n\u001b[0;32m-> 1240\u001b[0;31m                     \u001b[0mself\u001b[0m\u001b[0;34m.\u001b[0m\u001b[0mfp\u001b[0m \u001b[0;34m=\u001b[0m \u001b[0mio\u001b[0m\u001b[0;34m.\u001b[0m\u001b[0mopen\u001b[0m\u001b[0;34m(\u001b[0m\u001b[0mfile\u001b[0m\u001b[0;34m,\u001b[0m \u001b[0mfilemode\u001b[0m\u001b[0;34m)\u001b[0m\u001b[0;34m\u001b[0m\u001b[0;34m\u001b[0m\u001b[0m\n\u001b[0m\u001b[1;32m   1241\u001b[0m                 \u001b[0;32mexcept\u001b[0m \u001b[0mOSError\u001b[0m\u001b[0;34m:\u001b[0m\u001b[0;34m\u001b[0m\u001b[0;34m\u001b[0m\u001b[0m\n\u001b[1;32m   1242\u001b[0m                     \u001b[0;32mif\u001b[0m \u001b[0mfilemode\u001b[0m \u001b[0;32min\u001b[0m \u001b[0mmodeDict\u001b[0m\u001b[0;34m:\u001b[0m\u001b[0;34m\u001b[0m\u001b[0;34m\u001b[0m\u001b[0m\n",
            "\u001b[0;31mFileNotFoundError\u001b[0m: [Errno 2] No such file or directory: '/content/drive/MyDrive/archive.zip'"
          ]
        }
      ]
    },
    {
      "cell_type": "code",
      "source": [
        "from google.colab import drive\n",
        "drive.mount('/content/drive')"
      ],
      "metadata": {
        "id": "anbhkCSR5auF",
        "colab": {
          "base_uri": "https://localhost:8080/"
        },
        "outputId": "c0cb7610-1dbe-4432-832d-72f80cfeeb7d"
      },
      "execution_count": null,
      "outputs": [
        {
          "output_type": "stream",
          "name": "stdout",
          "text": [
            "Mounted at /content/drive\n"
          ]
        }
      ]
    },
    {
      "cell_type": "code",
      "source": [
        "!unzip /content/drive/MyDrive/archive.zip -d /content/drive/MyDrive/Colab Notebooks"
      ],
      "metadata": {
        "colab": {
          "base_uri": "https://localhost:8080/"
        },
        "id": "7OAsSI82Ajzt",
        "outputId": "32e66942-3e9c-4780-c9b1-0d1d4c36b42a"
      },
      "execution_count": null,
      "outputs": [
        {
          "output_type": "stream",
          "name": "stdout",
          "text": [
            "Archive:  /content/drive/MyDrive/archive.zip\n",
            "  End-of-central-directory signature not found.  Either this file is not\n",
            "  a zipfile, or it constitutes one disk of a multi-part archive.  In the\n",
            "  latter case the central directory and zipfile comment will be found on\n",
            "  the last disk(s) of this archive.\n",
            "unzip:  cannot find zipfile directory in one of /content/drive/MyDrive/archive.zip or\n",
            "        /content/drive/MyDrive/archive.zip.zip, and cannot find /content/drive/MyDrive/archive.zip.ZIP, period.\n"
          ]
        }
      ]
    },
    {
      "cell_type": "markdown",
      "source": [
        "#### 1.2 Basic statistics - Number of products, subcategories & gender"
      ],
      "metadata": {
        "id": "pBfgAOUs4Yuf"
      }
    },
    {
      "cell_type": "code",
      "source": [
        "print(\"Total number of products : \", fashion_df.shape[0])\n",
        "print(\"Total number of unique subcategories : \", fashion_df[\"SubCategory\"].nunique())\n",
        "print(\"Total number of unique gender types : \", fashion_df[\"Gender\"].nunique())"
      ],
      "metadata": {
        "trusted": true,
        "id": "3Cm-ijUq4Yug"
      },
      "execution_count": null,
      "outputs": []
    },
    {
      "cell_type": "markdown",
      "source": [
        "#### 1.3 Frequency of each gender"
      ],
      "metadata": {
        "id": "o5e9uFcV4Yuh"
      }
    },
    {
      "cell_type": "code",
      "source": [
        "fashion_df[\"Gender\"].value_counts()"
      ],
      "metadata": {
        "trusted": true,
        "id": "toqCkbVu4Yuh"
      },
      "execution_count": null,
      "outputs": []
    },
    {
      "cell_type": "markdown",
      "source": [
        "#### 1.4 Distribution of products gender-wise"
      ],
      "metadata": {
        "id": "dnds9Fhj4Yui"
      }
    },
    {
      "cell_type": "code",
      "source": [
        "plot = sns.countplot(fashion_df[\"Gender\"])\n",
        "plt.title(\"Distribution of articles gender-wise\")\n",
        "plt.xlabel(\"Gender type\")\n",
        "plt.ylabel(\"Number of products\")\n",
        "plot.set_xticklabels(plot.get_xticklabels())\n",
        "plt.show()"
      ],
      "metadata": {
        "trusted": true,
        "id": "WitH3mkl4Yuj"
      },
      "execution_count": null,
      "outputs": []
    },
    {
      "cell_type": "markdown",
      "source": [
        "### 2. Data Preparation"
      ],
      "metadata": {
        "id": "oTpT4TGx4Yuk"
      }
    },
    {
      "cell_type": "code",
      "source": [
        "apparel_boys = fashion_df[fashion_df[\"Gender\"]==\"Boys\"]\n",
        "apparel_girls = fashion_df[fashion_df[\"Gender\"]==\"Girls\"]\n",
        "footwear_men = fashion_df[fashion_df[\"Gender\"]==\"Men\"]\n",
        "footwear_women = fashion_df[fashion_df[\"Gender\"]==\"Women\"]"
      ],
      "metadata": {
        "trusted": true,
        "id": "1lwb_JN14Yul"
      },
      "execution_count": null,
      "outputs": []
    },
    {
      "cell_type": "markdown",
      "source": [
        "### 3. Feature extraction using ResNet\n",
        "\n",
        "**For Gender - Men**"
      ],
      "metadata": {
        "id": "ocFq-Akp4Yul"
      }
    },
    {
      "cell_type": "code",
      "source": [
        "img_width, img_height = 224, 224\n",
        "\n",
        "#top_model_weights_path = 'resnet50_weights_tf_dim_ordering_tf_kernels_notop.h5'\n",
        "train_data_dir = \"/kaggle/input/fashion-images/data/Footwear/Men/Images/\"\n",
        "\n",
        "nb_train_samples = 811\n",
        "epochs = 50\n",
        "batch_size = 1\n",
        "\n",
        "def extract_features():\n",
        "    Itemcodes = []\n",
        "    datagen = ImageDataGenerator(rescale=1. / 255)\n",
        "    model = applications.ResNet50(include_top=False, weights='imagenet')\n",
        "    generator = datagen.flow_from_directory(\n",
        "        train_data_dir,\n",
        "        target_size=(img_width, img_height),\n",
        "        batch_size=batch_size,\n",
        "        class_mode=None,\n",
        "        shuffle=False)\n",
        "    for i in generator.filenames:\n",
        "        Itemcodes.append(i[(i.find(\"/\")+1):i.find(\".\")])\n",
        "    extracted_features = model.predict_generator(generator, nb_train_samples // batch_size)\n",
        "    extracted_features = extracted_features.reshape((811, 100352))\n",
        "\n",
        "    np.save(open('./Men_ResNet_features.npy', 'wb'), extracted_features)\n",
        "    np.save(open('./Men_ResNet_feature_product_ids.npy', 'wb'), np.array(Itemcodes))\n",
        "\n",
        "a = datetime.now()\n",
        "extract_features()\n",
        "print(\"Time taken in feature extraction\", datetime.now()-a)"
      ],
      "metadata": {
        "trusted": true,
        "id": "wK7k-4gV4Yum"
      },
      "execution_count": null,
      "outputs": []
    },
    {
      "cell_type": "markdown",
      "source": [
        "### 4. Computing the Euclidean distance and recommending similar products\n",
        "\n",
        "#### 4.1 Loading the extracted features"
      ],
      "metadata": {
        "id": "0UCoLueF4Yun"
      }
    },
    {
      "cell_type": "code",
      "source": [
        "extracted_features = np.load('/kaggle/working/Men_ResNet_features.npy')\n",
        "Productids = np.load('/kaggle/working/Men_ResNet_feature_product_ids.npy')\n",
        "men = footwear_men.copy()\n",
        "#men = pd.read_csv('./footwear_men.csv')\n",
        "df_Productids = list(men['ProductId'])\n",
        "Productids = list(Productids)"
      ],
      "metadata": {
        "trusted": true,
        "id": "KvBzPAfq4Yun"
      },
      "execution_count": null,
      "outputs": []
    },
    {
      "cell_type": "markdown",
      "source": [
        "#### 4.2 Distance computation and Recommendation"
      ],
      "metadata": {
        "id": "fPeXhT3g4Yuo"
      }
    },
    {
      "cell_type": "code",
      "source": [
        "def get_similar_products_cnn(product_id, num_results):\n",
        "    doc_id = Productids.index(product_id)\n",
        "    pairwise_dist = pairwise_distances(extracted_features, extracted_features[doc_id].reshape(1,-1))\n",
        "    indices = np.argsort(pairwise_dist.flatten())[0:num_results]\n",
        "    pdists  = np.sort(pairwise_dist.flatten())[0:num_results]\n",
        "    print(\"=\"*20, \"input product image\", \"=\"*20)\n",
        "    ip_row = men[['ImageURL','ProductTitle']].loc[men['ProductId']==int(Productids[indices[0]])]\n",
        "    #print(ip_row.head())\n",
        "    for indx, row in ip_row.iterrows():\n",
        "        display(Image(url=row['ImageURL'], width = 224, height = 224,embed=True))\n",
        "        print('Product Title: ', row['ProductTitle'])\n",
        "    print(\"\\n\",\"=\"*20, \"Recommended products\", \"=\"*20)\n",
        "    for i in range(1,len(indices)):\n",
        "        rows = men[['ImageURL','ProductTitle']].loc[men['ProductId']==int(Productids[indices[i]])]\n",
        "        for indx, row in rows.iterrows():\n",
        "            display(Image(url=row['ImageURL'], width = 224, height = 224,embed=True))\n",
        "            print('Product Title: ', row['ProductTitle'])\n",
        "            print('Euclidean Distance from input image:', pdists[i])\n",
        "\n",
        "get_similar_products_cnn('13683', 5)"
      ],
      "metadata": {
        "trusted": true,
        "id": "-mSo4jjT4Yuo"
      },
      "execution_count": null,
      "outputs": []
    },
    {
      "cell_type": "markdown",
      "source": [
        "**NOTE** - The above feature extraction process can be repeated for other genders (Women, Boys and Girls) as well. So let's extract for each one by one.\n",
        "\n",
        "**For Gender - Women**"
      ],
      "metadata": {
        "id": "0wt-vtjF4Yup"
      }
    },
    {
      "cell_type": "code",
      "source": [
        "img_width, img_height = 224, 224\n",
        "\n",
        "\n",
        "#top_model_weights_path = 'resnet50_weights_tf_dim_ordering_tf_kernels_notop.h5'\n",
        "train_data_dir = \"/kaggle/input/fashion-images/data/Footwear/Women/Images/\"\n",
        "\n",
        "nb_train_samples = 769\n",
        "epochs = 50\n",
        "batch_size = 1\n",
        "\n",
        "def extract_features():\n",
        "    Itemcodes = []\n",
        "    datagen = ImageDataGenerator(rescale=1. / 255)\n",
        "    model = applications.ResNet50(include_top=False, weights='imagenet')\n",
        "    generator = datagen.flow_from_directory(\n",
        "        train_data_dir,\n",
        "        target_size=(img_width, img_height),\n",
        "        batch_size=batch_size,\n",
        "        class_mode=None,\n",
        "        shuffle=False)\n",
        "    for i in generator.filenames:\n",
        "        Itemcodes.append(i[(i.find(\"/\")+1):i.find(\".\")])\n",
        "    extracted_features = model.predict_generator(generator, nb_train_samples // batch_size)\n",
        "    extracted_features = extracted_features.reshape((769, 100352))\n",
        "\n",
        "    np.save(open('./Women_ResNet_features.npy', 'wb'), extracted_features)\n",
        "    np.save(open('./Women_ResNet_feature_product_ids.npy', 'wb'), np.array(Itemcodes))\n",
        "\n",
        "a = datetime.now()\n",
        "extract_features()\n",
        "print(\"Time taken in feature extraction\", datetime.now()-a)"
      ],
      "metadata": {
        "trusted": true,
        "id": "9cbg_0hj4Yup"
      },
      "execution_count": null,
      "outputs": []
    },
    {
      "cell_type": "markdown",
      "source": [
        "**For Gender - Boys**"
      ],
      "metadata": {
        "id": "Za4tB2Tm4Yup"
      }
    },
    {
      "cell_type": "code",
      "source": [
        "img_width, img_height = 224, 224\n",
        "\n",
        "\n",
        "#top_model_weights_path = 'resnet50_weights_tf_dim_ordering_tf_kernels_notop.h5'\n",
        "train_data_dir = \"/kaggle/input/fashion-images/data/Apparel/Boys/Images\"\n",
        "\n",
        "nb_train_samples = 759\n",
        "epochs = 50\n",
        "batch_size = 1\n",
        "\n",
        "def extract_features():\n",
        "    Itemcodes = []\n",
        "    datagen = ImageDataGenerator(rescale=1. / 255)\n",
        "    model = applications.ResNet50(include_top=False, weights='imagenet')\n",
        "    generator = datagen.flow_from_directory(\n",
        "        train_data_dir,\n",
        "        target_size=(img_width, img_height),\n",
        "        batch_size=batch_size,\n",
        "        class_mode=None,\n",
        "        shuffle=False)\n",
        "    for i in generator.filenames:\n",
        "        Itemcodes.append(i[(i.find(\"/\")+1):i.find(\".\")])\n",
        "    extracted_features = model.predict_generator(generator, nb_train_samples // batch_size)\n",
        "    extracted_features = extracted_features.reshape((759, 100352))\n",
        "\n",
        "    np.save(open('./Boys_ResNet_features.npy', 'wb'), extracted_features)\n",
        "    np.save(open('./Boys_ResNet_feature_product_ids.npy', 'wb'), np.array(Itemcodes))\n",
        "\n",
        "a = datetime.now()\n",
        "extract_features()\n",
        "print(\"Time taken in feature extraction\", datetime.now()-a)"
      ],
      "metadata": {
        "trusted": true,
        "id": "zu8UqJBY4Yuq"
      },
      "execution_count": null,
      "outputs": []
    },
    {
      "cell_type": "markdown",
      "source": [
        "**For Gender - Girls**"
      ],
      "metadata": {
        "id": "GPHrJvdl4Yuq"
      }
    },
    {
      "cell_type": "code",
      "source": [
        "img_width, img_height = 224, 224\n",
        "\n",
        "\n",
        "#top_model_weights_path = 'resnet50_weights_tf_dim_ordering_tf_kernels_notop.h5'\n",
        "train_data_dir = \"/kaggle/input/fashion-images/data/Apparel/Girls/Images\"\n",
        "\n",
        "nb_train_samples = 567\n",
        "epochs = 50\n",
        "batch_size = 1\n",
        "\n",
        "def extract_features():\n",
        "    Itemcodes = []\n",
        "    datagen = ImageDataGenerator(rescale=1. / 255)\n",
        "    model = applications.ResNet50(include_top=False, weights='imagenet')\n",
        "    generator = datagen.flow_from_directory(\n",
        "        train_data_dir,\n",
        "        target_size=(img_width, img_height),\n",
        "        batch_size=batch_size,\n",
        "        class_mode=None,\n",
        "        shuffle=False)\n",
        "    for i in generator.filenames:\n",
        "        Itemcodes.append(i[(i.find(\"/\")+1):i.find(\".\")])\n",
        "    extracted_features = model.predict_generator(generator, nb_train_samples // batch_size)\n",
        "    extracted_features = extracted_features.reshape((567, 100352))\n",
        "\n",
        "    np.save(open('./Girls_ResNet_features.npy', 'wb'), extracted_features)\n",
        "    np.save(open('./Girls_ResNet_feature_product_ids.npy', 'wb'), np.array(Itemcodes))\n",
        "\n",
        "a = datetime.now()\n",
        "extract_features()\n",
        "print(\"Time taken in feature extraction\", datetime.now()-a)"
      ],
      "metadata": {
        "trusted": true,
        "id": "mBC6juDP4Yuq"
      },
      "execution_count": null,
      "outputs": []
    },
    {
      "cell_type": "markdown",
      "source": [
        "### 5. Deploying the solution"
      ],
      "metadata": {
        "id": "qNiNP3NW4Yur"
      }
    },
    {
      "cell_type": "code",
      "source": [
        "boys_extracted_features = np.load('/kaggle/working/Boys_ResNet_features.npy')\n",
        "boys_Productids = np.load('/kaggle/working/Boys_ResNet_feature_product_ids.npy')\n",
        "girls_extracted_features = np.load('/kaggle/working/Girls_ResNet_features.npy')\n",
        "girls_Productids = np.load('/kaggle/working/Girls_ResNet_feature_product_ids.npy')\n",
        "men_extracted_features = np.load('/kaggle/working/Men_ResNet_features.npy')\n",
        "men_Productids = np.load('/kaggle/working/Men_ResNet_feature_product_ids.npy')\n",
        "women_extracted_features = np.load('/kaggle/working/Women_ResNet_features.npy')\n",
        "women_Productids = np.load('/kaggle/working/Women_ResNet_feature_product_ids.npy')\n",
        "fashion_df[\"ProductId\"] = fashion_df[\"ProductId\"].astype(str)"
      ],
      "metadata": {
        "trusted": true,
        "id": "zQEMHDO64Yur"
      },
      "execution_count": null,
      "outputs": []
    },
    {
      "cell_type": "code",
      "source": [
        "def get_similar_products_cnn(product_id, num_results):\n",
        "    if(fashion_df[fashion_df['ProductId']==product_id]['Gender'].values[0]==\"Boys\"):\n",
        "        extracted_features = boys_extracted_features\n",
        "        Productids = boys_Productids\n",
        "    elif(fashion_df[fashion_df['ProductId']==product_id]['Gender'].values[0]==\"Girls\"):\n",
        "        extracted_features = girls_extracted_features\n",
        "        Productids = girls_Productids\n",
        "    elif(fashion_df[fashion_df['ProductId']==product_id]['Gender'].values[0]==\"Men\"):\n",
        "        extracted_features = men_extracted_features\n",
        "        Productids = men_Productids\n",
        "    elif(fashion_df[fashion_df['ProductId']==product_id]['Gender'].values[0]==\"Women\"):\n",
        "        extracted_features = women_extracted_features\n",
        "        Productids = women_Productids\n",
        "    Productids = list(Productids)\n",
        "    doc_id = Productids.index(product_id)\n",
        "    pairwise_dist = pairwise_distances(extracted_features, extracted_features[doc_id].reshape(1,-1))\n",
        "    indices = np.argsort(pairwise_dist.flatten())[0:num_results]\n",
        "    pdists  = np.sort(pairwise_dist.flatten())[0:num_results]\n",
        "    print(\"=\"*20, \"input product details\", \"=\"*20)\n",
        "    ip_row = fashion_df[['ImageURL','ProductTitle']].loc[fashion_df['ProductId']==Productids[indices[0]]]\n",
        "    for indx, row in ip_row.iterrows():\n",
        "        display(Image(url=row['ImageURL'], width = 224, height = 224,embed=True))\n",
        "        print('Product Title: ', row['ProductTitle'])\n",
        "    print(\"\\n\",\"=\"*20, \"Recommended products\", \"=\"*20)\n",
        "    for i in range(1,len(indices)):\n",
        "        rows = fashion_df[['ImageURL','ProductTitle']].loc[fashion_df['ProductId']==Productids[indices[i]]]\n",
        "        for indx, row in rows.iterrows():\n",
        "            display(Image(url=row['ImageURL'], width = 224, height = 224,embed=True))\n",
        "            print('Product Title: ', row['ProductTitle'])\n",
        "            print('Euclidean Distance from input image:', pdists[i])"
      ],
      "metadata": {
        "trusted": true,
        "id": "wjkEUtbg4Yur"
      },
      "execution_count": null,
      "outputs": []
    },
    {
      "cell_type": "code",
      "source": [
        "get_similar_products_cnn('21030', 5)"
      ],
      "metadata": {
        "trusted": true,
        "id": "4-E8uxBL4Yus"
      },
      "execution_count": null,
      "outputs": []
    },
    {
      "cell_type": "code",
      "source": [
        "get_similar_products_cnn('18181', 5)"
      ],
      "metadata": {
        "trusted": true,
        "id": "0QsO2Uq54Yus"
      },
      "execution_count": null,
      "outputs": []
    },
    {
      "cell_type": "code",
      "source": [
        "get_similar_products_cnn('37633', 5)"
      ],
      "metadata": {
        "trusted": true,
        "id": "uElzkZRN4Yus"
      },
      "execution_count": null,
      "outputs": []
    },
    {
      "cell_type": "markdown",
      "source": [
        "**Tip** - The solution can be deployed using ***streamlit***.\n",
        "\n",
        "The complete deployment code can be downloaded from [here](https://drive.google.com/file/d/123XGxKvRY7sk2pnTmVOyLp9FH-iFL5oN/view)."
      ],
      "metadata": {
        "id": "oaSgKmsn4Yut"
      }
    }
  ]
}